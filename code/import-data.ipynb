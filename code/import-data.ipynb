{
  "cells": [
    {
      "cell_type": "markdown",
      "metadata": {
        "id": "view-in-github",
        "colab_type": "text"
      },
      "source": [
        "<a href=\"https://colab.research.google.com/github/eliholton7/Ev288/blob/main/code/import-data.ipynb\" target=\"_parent\"><img src=\"https://colab.research.google.com/assets/colab-badge.svg\" alt=\"Open In Colab\"/></a>"
      ]
    },
    {
      "cell_type": "markdown",
      "id": "b00e392f",
      "metadata": {
        "id": "b00e392f"
      },
      "source": [
        "# Importing Data\n",
        "[![Latest release](https://badgen.net/github/release/Naereen/Strapdown.js)](https://github.com/dmhuehol/ev228-analysis-environmental-data/tree/main/code)\n",
        "[![Open In Colab](https://colab.research.google.com/assets/colab-badge.svg)](https://githubtocolab.com/dmhuehol/ev228-analysis-environmental-data/blob/main/code/import-data.ipynb)  \n",
        "*This code is made available under an MIT License, included as the LICENSE file in this repository.*\n",
        "\n",
        "This notebook walks through the process of writing code to import data into\n",
        "Python using weather station data from the Colorado Springs weather station."
      ]
    },
    {
      "cell_type": "markdown",
      "id": "094c520c",
      "metadata": {
        "id": "094c520c"
      },
      "source": [
        "# 1. Importing the data\n",
        "\n",
        "Now we have the data on our computer and are ready to import it into a Python\n",
        "data structure. To begin, we need to import relevant package(s)."
      ]
    },
    {
      "cell_type": "code",
      "execution_count": 84,
      "id": "a8ae76b1",
      "metadata": {
        "id": "a8ae76b1"
      },
      "outputs": [],
      "source": [
        "# Import relevant packages based on class discussion here\n",
        "import numpy as np\n",
        "import pandas as pd\n",
        "import matplotlib.pyplot as plt"
      ]
    },
    {
      "cell_type": "markdown",
      "id": "4910e95a",
      "metadata": {
        "id": "4910e95a"
      },
      "source": [
        "Now we make variables that contain the path (location) of our data. File\n",
        "paths are input as strings. In general, it's best to keep the path and the\n",
        "filename separate as this allows us to import multiple files more easily. This\n",
        "is not relevant for this script, but builds good habits for the future!\n"
      ]
    },
    {
      "cell_type": "code",
      "execution_count": 85,
      "id": "298b1791",
      "metadata": {
        "id": "298b1791"
      },
      "outputs": [],
      "source": [
        "#  Make a variable with the path to your folder and another variable with the\n",
        "#  filename here.\n",
        "path_data = '/Users/[eliholton]/Ev228_data/'\n",
        "file_name = 'COS-Airport_maxT-minT-precip-snow_194801-202212.csv'"
      ]
    },
    {
      "cell_type": "markdown",
      "id": "89e57614",
      "metadata": {
        "id": "89e57614"
      },
      "source": [
        "We are now ready to import the data into Python!"
      ]
    },
    {
      "cell_type": "code",
      "execution_count": 86,
      "id": "ec654e12",
      "metadata": {
        "id": "ec654e12"
      },
      "outputs": [],
      "source": [
        "#  Write the command to import your data here\n",
        "df = pd.read_csv(file_name)"
      ]
    },
    {
      "cell_type": "markdown",
      "id": "1a269d0d",
      "metadata": {
        "id": "1a269d0d"
      },
      "source": [
        "Now we are ready to look at the data!"
      ]
    },
    {
      "cell_type": "markdown",
      "id": "b77d23a1",
      "metadata": {
        "id": "b77d23a1"
      },
      "source": [
        "# 2. Looking at the data\n",
        "\n",
        "Once we input a new dataset, we first want to isolate the variable(s) we're\n",
        "interested in. Then, we usually run some basic tests to get a feel for whether\n",
        "the data has been imported correctly, if there are clear issues (e.g., large\n",
        "missing chunks of data, discontinuities, etc.), or any immediately interesting\n",
        "characteristics (such as if we had a hypothesis in mind for a dataset when we\n",
        "started). These tests generally involve making very simple plots that allow us\n",
        "to check a characteristic we know about the data as well as calculating\n",
        "descriptive statistics.\n",
        "\n",
        "This whole process is the simplest form of *exploratory data analysis*, which\n",
        "we'll spend much of this week on."
      ]
    },
    {
      "cell_type": "markdown",
      "id": "8a7c33e1",
      "metadata": {
        "id": "8a7c33e1"
      },
      "source": [
        "## 2a. Data Variables\n",
        "\n",
        "The first thing to do is to print the dataset. This will show us each of the\n",
        "data variables with a snippet of the data that they contain."
      ]
    },
    {
      "cell_type": "code",
      "execution_count": 87,
      "id": "eab0642f",
      "metadata": {
        "id": "eab0642f",
        "outputId": "e4c6dbff-04bb-43fc-85ac-3e35fb9cd452",
        "colab": {
          "base_uri": "https://localhost:8080/"
        }
      },
      "outputs": [
        {
          "output_type": "stream",
          "name": "stdout",
          "text": [
            "    Year_Month maximumT minimumT precipitation snowfall\n",
            "0        Units     degF     degF            in       in\n",
            "1      1948-01      NaN      NaN           NaN      NaN\n",
            "2      1948-02      NaN      NaN           NaN      NaN\n",
            "3      1948-03      NaN      NaN           NaN      NaN\n",
            "4      1948-04     63.6     35.7          1.07        4\n",
            "..         ...      ...      ...           ...      ...\n",
            "896    2022-08     85.1     58.4          1.82        0\n",
            "897    2022-09     82.1     51.7           0.5        0\n",
            "898    2022-10     66.6     38.2          0.15        T\n",
            "899    2022-11     50.3     22.9          0.24      7.4\n",
            "900    2022-12     45.1     16.2           0.5      3.9\n",
            "\n",
            "[901 rows x 5 columns]\n"
          ]
        }
      ],
      "source": [
        "#  Print your data variable to the console here\n",
        "print(df)"
      ]
    },
    {
      "cell_type": "markdown",
      "id": "eeec6649",
      "metadata": {
        "id": "eeec6649"
      },
      "source": [
        "**QUESTION: There are five variables in this dataset. What are they? What do\n",
        "you think each of the variables represent?**  \n",
        "**QUESTION: Most of the data entries are numeric, but some are marked NaN and\n",
        "others T. What do you think NaN represents? How about T?**"
      ]
    },
    {
      "cell_type": "markdown",
      "id": "9ebcccbb",
      "metadata": {
        "id": "9ebcccbb"
      },
      "source": [
        "For the rest of this notebook, we will emphasize the `maximumT` variable.\n",
        "Variables are extracted from a dataframe using bracket notation, i.e., for a\n",
        "dataframe named `df` with a variable `var`, you would extract the variable with\n",
        "the command `df[var]`.\n",
        "\n",
        "Extract `maximumT` and `Year_Month` from the dataframe and assign them each to\n",
        "separate variables below."
      ]
    },
    {
      "cell_type": "code",
      "execution_count": 105,
      "id": "19a47201",
      "metadata": {
        "id": "19a47201"
      },
      "outputs": [],
      "source": [
        "# Extract maximumT and Year_Month and assign them to variables here.\n",
        "max_temp = df['maximumT'][1:]\n",
        "dates = df['Year_Month'][1:]\n"
      ]
    },
    {
      "cell_type": "markdown",
      "id": "505666b6",
      "metadata": {
        "id": "505666b6"
      },
      "source": [
        "**ACTIVITY: For a one-dimensional structure like this one, bracket notation is\n",
        "also how we access individual values within the variable. For practice, print\n",
        "the value of the element at index 4 and at index 823. You should obtain `'63.6'`\n",
        "and `'89.3'`, respectively.**  \n",
        "\n",
        "The first line of the data is a *header* which describes the data, but does not\n",
        "contain data. This header needs to be dropped before carrying out further\n",
        "operations.\n",
        "\n",
        "**ACTIVITY: A colon `:` can be used to select a range of indices using bracket\n",
        "notation. (e.g., `df[9:12]` would select the 9th, 10th, and 11th indices). Use\n",
        "bracket notation to remove the header by selecting all of the elements except\n",
        "for the first one.**"
      ]
    },
    {
      "cell_type": "code",
      "execution_count": 106,
      "id": "ae8474f1",
      "metadata": {
        "id": "ae8474f1",
        "outputId": "8130b9fa-d92d-404e-e965-3d165e878fbe",
        "colab": {
          "base_uri": "https://localhost:8080/"
        }
      },
      "outputs": [
        {
          "output_type": "stream",
          "name": "stdout",
          "text": [
            "63.6\n",
            "89.3\n",
            "Year_Month       Units\n",
            "maximumT          degF\n",
            "minimumT          degF\n",
            "precipitation       in\n",
            "snowfall            in\n",
            "Name: 0, dtype: object\n"
          ]
        }
      ],
      "source": [
        "#  Print the value of the element at index 4 and at index 823\n",
        "#  Then, use bracket notation to remove the header\n",
        "print(max_temp[4])\n",
        "print(max_temp[823])\n",
        "print(df.iloc[0])"
      ]
    },
    {
      "cell_type": "markdown",
      "id": "f2cbcdc0",
      "metadata": {
        "id": "f2cbcdc0"
      },
      "source": [
        "There's one odd thing about this data that you may have already noticed--the\n",
        "values you are obtaining are strings, not floats as you may expect. This means\n",
        "we have to carry out an extra conversion step before doing anything else to the\n",
        "data, as strings are not directly plottable. The choice to represent the data\n",
        "as strings may seem silly, but there is a very good reason for it!\n",
        "\n",
        "**ACTIVITY: Verify that the data contained in this dataframe consists of\n",
        "strings. Hint: Try using the `type` function for this.**  \n",
        "**QUESTION: Why do you think this data is represented as a string by default?**"
      ]
    },
    {
      "cell_type": "code",
      "execution_count": 107,
      "id": "43749746",
      "metadata": {
        "id": "43749746",
        "outputId": "757914a6-44cc-4506-8935-db2306eb1534",
        "colab": {
          "base_uri": "https://localhost:8080/"
        }
      },
      "outputs": [
        {
          "output_type": "stream",
          "name": "stdout",
          "text": [
            "<class 'str'>\n"
          ]
        }
      ],
      "source": [
        "#  The code below converts the strings into floats, assuming that the variable\n",
        "#  with the maximum temperature data is named max_temp. Edit as needed to make\n",
        "#  this work with your variable!\n",
        "type(max_temp[4])\n",
        "print(type(max_temp[4]))\n",
        "max_temp = pd.to_numeric(max_temp, errors='coerce').astype(np.float16)\n"
      ]
    },
    {
      "cell_type": "markdown",
      "id": "ec063c92",
      "metadata": {
        "id": "ec063c92"
      },
      "source": [
        "**ACTIVITY: Verify that the data now consists of floats.**  "
      ]
    },
    {
      "cell_type": "markdown",
      "id": "9af283fb",
      "metadata": {
        "id": "9af283fb"
      },
      "source": [
        "We need to convert the dates into a special format called a *datetime* which\n",
        "represents dates."
      ]
    },
    {
      "cell_type": "code",
      "execution_count": 108,
      "id": "dc9589f6",
      "metadata": {
        "id": "dc9589f6",
        "outputId": "dc38ab2d-391f-42d4-c638-9e60bbbf78e8",
        "colab": {
          "base_uri": "https://localhost:8080/"
        }
      },
      "outputs": [
        {
          "output_type": "stream",
          "name": "stdout",
          "text": [
            "1     1948-01-01\n",
            "2     1948-02-01\n",
            "3     1948-03-01\n",
            "4     1948-04-01\n",
            "5     1948-05-01\n",
            "         ...    \n",
            "896   2022-08-01\n",
            "897   2022-09-01\n",
            "898   2022-10-01\n",
            "899   2022-11-01\n",
            "900   2022-12-01\n",
            "Name: Year_Month, Length: 900, dtype: datetime64[ns]\n"
          ]
        }
      ],
      "source": [
        "#  The code below converts the strings into datetimes, assuming that the\n",
        "#  variable with the maximum temperature data is named dates. Edit as needed to\n",
        "#  make this work with your variable!\n",
        "dates = pd.to_datetime(dates)\n",
        "print(dates)"
      ]
    },
    {
      "cell_type": "markdown",
      "id": "f76ec1c2",
      "metadata": {
        "id": "f76ec1c2"
      },
      "source": [
        "# 2b. Plot the record\n",
        "\n",
        "Often the first test we run on a new dataset is to plot the whole dataset. This\n",
        "allows us to immediately conduct a *plausibility check* on the data:\n",
        "essentially, does something look wildly off, or can we proceed further?\n",
        "\n",
        "For these first plots, do not set any x- or y-limits. At this exploratory\n",
        "stage, it's important to see all of the data--often something that exceeds your\n",
        "expected limits for the data is the sign of something that needs further\n",
        "investigation!\n",
        "\n",
        "**QUESTION: Before plotting the data, ask yourself 1) What range of temperature\n",
        "values in Fahrenheit might you expect to see for Colorado Springs? 2) Keeping\n",
        "in mind this is monthly data, what overall patterns might you expect to see\n",
        "over the course of the record?**"
      ]
    },
    {
      "cell_type": "code",
      "execution_count": 133,
      "id": "fcb3c1b1",
      "metadata": {
        "id": "fcb3c1b1",
        "outputId": "c9209a00-aaf1-4dc3-d4c9-041be9271d1a",
        "colab": {
          "base_uri": "https://localhost:8080/",
          "height": 472
        }
      },
      "outputs": [
        {
          "output_type": "display_data",
          "data": {
            "text/plain": [
              "<Figure size 640x480 with 1 Axes>"
            ],
            "image/png": "[encoded data removed]"
          },
          "metadata": {}
        }
      ],
      "source": [
        "#  Make a figure and plot the maximumT data that you assigned to a variable in\n",
        "#  the previous cell. Feel free to copy and paste code from previous notebooks\n",
        "#  (such as statistical_moments) where we made figures.\n",
        "plt.figure()\n",
        "plt.plot(dates, max_temp)\n",
        "plt.title('Maximum Temperature')\n",
        "plt.xlabel('Date')\n",
        "plt.ylabel('Temperature (F)')\n",
        "plt.xlim(dates[627], dates[900])\n",
        "plt.ylim(20, 100)\n",
        "plt.show()"
      ]
    },
    {
      "cell_type": "markdown",
      "id": "701152e0",
      "metadata": {
        "id": "701152e0"
      },
      "source": [
        "**QUESTION: Does this range of values look plausible? Do you see the feature(s)\n",
        "you expected to see? Is there anything unexpected?**\n",
        "\n",
        "**ACTIVITY: Zoom in on a smaller range of the data (i.e., a few years). You may\n",
        "do this either by changing the x-limits or by selecting a smaller range of the\n",
        "data using bracket notation.**"
      ]
    },
    {
      "cell_type": "markdown",
      "id": "ee132278",
      "metadata": {
        "id": "ee132278"
      },
      "source": [
        "# 2c. Descriptive statistics\n",
        "\n",
        "Another good way to test a new dataset is by calculating descriptive statistics\n",
        "on it.\n",
        "\n",
        "**ACTIVITY: Add code below to create a dictionary containing the mean, median,\n",
        "and standard deviation of the dataset. Print the dictionary to the console.**\n",
        "\n",
        "**STRETCH: You may also add skewness and kurtosis to this analysis. (They're\n",
        "actually extremely interesting for each of the variables in this dataset!)\n",
        "However, higher moments are not typically checked as part of initial\n",
        "exploratory analysis.**"
      ]
    },
    {
      "cell_type": "code",
      "execution_count": 67,
      "id": "71efe263",
      "metadata": {
        "id": "71efe263",
        "outputId": "c7f5f7ce-08b0-4ea8-d56d-2b02ae65a56f",
        "colab": {
          "base_uri": "https://localhost:8080/"
        }
      },
      "outputs": [
        {
          "output_type": "stream",
          "name": "stdout",
          "text": [
            "{'mean': np.float16(62.72), 'median': np.float16(nan), 'std': np.float16(15.59)}\n"
          ]
        }
      ],
      "source": [
        "#  Create your dictionary with descriptive statistics for the dataset\n",
        "dictionary = {'mean': np.mean(max_temp), 'median': np.median(max_temp), 'std': np.std(max_temp),}\n",
        "print(dictionary)"
      ]
    },
    {
      "cell_type": "markdown",
      "id": "0c5fe60a",
      "metadata": {
        "id": "0c5fe60a"
      },
      "source": [
        "It is likely that many of your values are returning nans! This is because most\n",
        "statistical functions report nan as the output if ANY of the values in the\n",
        "input variable are nan. There are special versions or inputs for each of the\n",
        "functions that currently return nan that allow a number to be returned by\n",
        "omitting nans from the calculation.\n",
        "\n",
        "**ACTIVITY: Look up the version of the median function in Numpy that works with\n",
        "nans. Implement this in your dictionary.**\n"
      ]
    },
    {
      "cell_type": "code",
      "execution_count": 68,
      "id": "da383e03",
      "metadata": {
        "id": "da383e03",
        "outputId": "cf18691f-815b-4ea5-ddb1-d4404482b498",
        "colab": {
          "base_uri": "https://localhost:8080/"
        }
      },
      "outputs": [
        {
          "output_type": "stream",
          "name": "stdout",
          "text": [
            "{'mean': np.float16(62.72), 'median': np.float16(62.5), 'std': np.float16(15.59)}\n"
          ]
        }
      ],
      "source": [
        "#  Implement the version of the median function that allows nans\n",
        "dictionary = {'mean': np.mean(max_temp), 'median': np.nanmedian(max_temp), 'std': np.std(max_temp),}\n",
        "print(dictionary)"
      ]
    },
    {
      "cell_type": "markdown",
      "id": "b6fa863d",
      "metadata": {
        "id": "b6fa863d"
      },
      "source": [
        "When working with real-world data, we usually check the maximum and minimum of\n",
        "the data in addition to the descriptive statistics we have already added.\n",
        "\n",
        "**ACTIVITY: Look up the functions in Numpy to calculate the maximum and minimum\n",
        "of the dataset. Implement these in your dictionary, as well.**"
      ]
    },
    {
      "cell_type": "code",
      "execution_count": 111,
      "id": "451947a5",
      "metadata": {
        "id": "451947a5",
        "outputId": "04369332-0bcd-40e6-9882-24336b2529a2",
        "colab": {
          "base_uri": "https://localhost:8080/"
        }
      },
      "outputs": [
        {
          "output_type": "stream",
          "name": "stdout",
          "text": [
            "{'mean': np.float16(62.72), 'median': np.float16(62.5), 'std': np.float16(15.59), 'max': np.float16(91.7), 'min': np.float16(27.2)}\n"
          ]
        }
      ],
      "source": [
        "#  Add maximum and minimum to your dictionary\n",
        "dictionary = {'mean': np.mean(max_temp), 'median': np.nanmedian(max_temp), 'std': np.std(max_temp), 'max': np.max(max_temp), 'min': np.min(max_temp)}\n",
        "print(dictionary)"
      ]
    },
    {
      "cell_type": "markdown",
      "id": "6d1e2990",
      "metadata": {
        "id": "6d1e2990"
      },
      "source": [
        "You have now completed a basic exploratory analysis of a dataset!\n",
        "\n",
        "**ACTIVITY: Try to summarize what you now know about the dataset in 2-3\n",
        "sentences of natural language.**"
      ]
    },
    {
      "cell_type": "markdown",
      "id": "afe213b3",
      "metadata": {
        "id": "afe213b3"
      },
      "source": [
        "This kind of exploratory data analysis--opening an unfamiliar dataset and\n",
        "getting a feel for how it works by making simple plots and calculating\n",
        "descriptive statistics--is one of the core skills of environmental data\n",
        "science!"
      ]
    },
    {
      "cell_type": "markdown",
      "id": "5c8783f3",
      "metadata": {
        "id": "5c8783f3"
      },
      "source": [
        "**ACTIVITY: Now, choose a different variable and repeat your exploratory analysis.**\n",
        "\n",
        "This also begins to segue us into moving towards *modularity* and writing in\n",
        "functions as opposed to scripting as with these notebooks. Changing the\n",
        "analysis in a script involves changing the whole script; with a modular\n",
        "approach, we would only need to change one input!"
      ]
    },
    {
      "cell_type": "markdown",
      "id": "3d9301e7",
      "metadata": {
        "id": "3d9301e7"
      },
      "source": []
    }
  ],
  "metadata": {
    "kernelspec": {
      "display_name": "ev228",
      "language": "python",
      "name": "python3"
    },
    "language_info": {
      "codemirror_mode": {
        "name": "ipython",
        "version": 3
      },
      "file_extension": ".py",
      "mimetype": "text/x-python",
      "name": "python",
      "nbconvert_exporter": "python",
      "pygments_lexer": "ipython3",
      "version": "3.12.8"
    },
    "colab": {
      "provenance": [],
      "include_colab_link": true
    }
  },
  "nbformat": 4,
  "nbformat_minor": 5
}